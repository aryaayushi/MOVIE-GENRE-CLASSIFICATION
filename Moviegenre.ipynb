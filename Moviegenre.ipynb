{
 "cells": [
  {
   "cell_type": "markdown",
   "id": "691c382f-f03a-4259-abb6-412f63ddb80c",
   "metadata": {},
   "source": [
    "## Data import "
   ]
  },
  {
   "cell_type": "code",
   "execution_count": null,
   "id": "a3b3f2d1-67fe-4d9e-b3dd-1fd9ea60dd9f",
   "metadata": {},
   "outputs": [],
   "source": []
  },
  {
   "cell_type": "code",
   "execution_count": 1,
   "id": "837a1971-cf31-4b6a-927a-792511fefb9f",
   "metadata": {},
   "outputs": [],
   "source": [
    "# importing libraries\n",
    "import pandas as pd \n",
    "import numpy as np"
   ]
  },
  {
   "cell_type": "code",
   "execution_count": 2,
   "id": "d8876877-4c6d-4617-9efa-1786fc8a38dc",
   "metadata": {},
   "outputs": [],
   "source": [
    "# DEFINE COLUMN NAMES FOR THE DATASETS\n",
    "columns = [ 'Movie Name' , 'Genre' , 'Description']\n",
    "column = ['Movie Name' , 'Description']"
   ]
  },
  {
   "cell_type": "code",
   "execution_count": 3,
   "id": "a48e23c4-6ca6-41c9-beaa-cab114159def",
   "metadata": {},
   "outputs": [
    {
     "data": {
      "text/html": [
       "<div>\n",
       "<style scoped>\n",
       "    .dataframe tbody tr th:only-of-type {\n",
       "        vertical-align: middle;\n",
       "    }\n",
       "\n",
       "    .dataframe tbody tr th {\n",
       "        vertical-align: top;\n",
       "    }\n",
       "\n",
       "    .dataframe thead th {\n",
       "        text-align: right;\n",
       "    }\n",
       "</style>\n",
       "<table border=\"1\" class=\"dataframe\">\n",
       "  <thead>\n",
       "    <tr style=\"text-align: right;\">\n",
       "      <th></th>\n",
       "      <th>Movie Name</th>\n",
       "      <th>Genre</th>\n",
       "      <th>Description</th>\n",
       "    </tr>\n",
       "  </thead>\n",
       "  <tbody>\n",
       "    <tr>\n",
       "      <th>1</th>\n",
       "      <td>Oscar et la dame rose (2009)</td>\n",
       "      <td>drama</td>\n",
       "      <td>Listening in to a conversation between his do...</td>\n",
       "    </tr>\n",
       "    <tr>\n",
       "      <th>2</th>\n",
       "      <td>Cupid (1997)</td>\n",
       "      <td>thriller</td>\n",
       "      <td>A brother and sister with a past incestuous r...</td>\n",
       "    </tr>\n",
       "    <tr>\n",
       "      <th>3</th>\n",
       "      <td>Young, Wild and Wonderful (1980)</td>\n",
       "      <td>adult</td>\n",
       "      <td>As the bus empties the students for their fie...</td>\n",
       "    </tr>\n",
       "    <tr>\n",
       "      <th>4</th>\n",
       "      <td>The Secret Sin (1915)</td>\n",
       "      <td>drama</td>\n",
       "      <td>To help their unemployed father make ends mee...</td>\n",
       "    </tr>\n",
       "    <tr>\n",
       "      <th>5</th>\n",
       "      <td>The Unrecovered (2007)</td>\n",
       "      <td>drama</td>\n",
       "      <td>The film's title refers not only to the un-re...</td>\n",
       "    </tr>\n",
       "  </tbody>\n",
       "</table>\n",
       "</div>"
      ],
      "text/plain": [
       "                           Movie Name       Genre  \\\n",
       "1       Oscar et la dame rose (2009)       drama    \n",
       "2                       Cupid (1997)    thriller    \n",
       "3   Young, Wild and Wonderful (1980)       adult    \n",
       "4              The Secret Sin (1915)       drama    \n",
       "5             The Unrecovered (2007)       drama    \n",
       "\n",
       "                                         Description  \n",
       "1   Listening in to a conversation between his do...  \n",
       "2   A brother and sister with a past incestuous r...  \n",
       "3   As the bus empties the students for their fie...  \n",
       "4   To help their unemployed father make ends mee...  \n",
       "5   The film's title refers not only to the un-re...  "
      ]
     },
     "execution_count": 3,
     "metadata": {},
     "output_type": "execute_result"
    }
   ],
   "source": [
    "# READ THE TRAINING DATA FROM 'train_data.txt' WITH A CUSTOM DELIMITER ':::'\n",
    "df_train = pd.read_csv('train_data.txt' , delimiter=':::' , engine='python' , names=columns , index_col=0 )\n",
    "\n",
    "# DISPLAY THE FIRST FEW ROWS OF THE TRAINING DATASET\n",
    "df_train.head()"
   ]
  },
  {
   "cell_type": "code",
   "execution_count": 4,
   "id": "01832a05-e07f-4ed3-a892-bcf9dc1ca095",
   "metadata": {},
   "outputs": [
    {
     "data": {
      "text/html": [
       "<div>\n",
       "<style scoped>\n",
       "    .dataframe tbody tr th:only-of-type {\n",
       "        vertical-align: middle;\n",
       "    }\n",
       "\n",
       "    .dataframe tbody tr th {\n",
       "        vertical-align: top;\n",
       "    }\n",
       "\n",
       "    .dataframe thead th {\n",
       "        text-align: right;\n",
       "    }\n",
       "</style>\n",
       "<table border=\"1\" class=\"dataframe\">\n",
       "  <thead>\n",
       "    <tr style=\"text-align: right;\">\n",
       "      <th></th>\n",
       "      <th>Movie Name</th>\n",
       "      <th>Genre</th>\n",
       "      <th>Description</th>\n",
       "    </tr>\n",
       "  </thead>\n",
       "  <tbody>\n",
       "    <tr>\n",
       "      <th>1</th>\n",
       "      <td>Edgar's Lunch (1998)</td>\n",
       "      <td>thriller</td>\n",
       "      <td>L.R. Brane loves his life - his car, his apar...</td>\n",
       "    </tr>\n",
       "    <tr>\n",
       "      <th>2</th>\n",
       "      <td>La guerra de papá (1977)</td>\n",
       "      <td>comedy</td>\n",
       "      <td>Spain, March 1964: Quico is a very naughty ch...</td>\n",
       "    </tr>\n",
       "    <tr>\n",
       "      <th>3</th>\n",
       "      <td>Off the Beaten Track (2010)</td>\n",
       "      <td>documentary</td>\n",
       "      <td>One year in the life of Albin and his family ...</td>\n",
       "    </tr>\n",
       "    <tr>\n",
       "      <th>4</th>\n",
       "      <td>Meu Amigo Hindu (2015)</td>\n",
       "      <td>drama</td>\n",
       "      <td>His father has died, he hasn't spoken with hi...</td>\n",
       "    </tr>\n",
       "    <tr>\n",
       "      <th>5</th>\n",
       "      <td>Er nu zhai (1955)</td>\n",
       "      <td>drama</td>\n",
       "      <td>Before he was known internationally as a mart...</td>\n",
       "    </tr>\n",
       "  </tbody>\n",
       "</table>\n",
       "</div>"
      ],
      "text/plain": [
       "                      Movie Name          Genre  \\\n",
       "1          Edgar's Lunch (1998)       thriller    \n",
       "2      La guerra de papá (1977)         comedy    \n",
       "3   Off the Beaten Track (2010)    documentary    \n",
       "4        Meu Amigo Hindu (2015)          drama    \n",
       "5             Er nu zhai (1955)          drama    \n",
       "\n",
       "                                         Description  \n",
       "1   L.R. Brane loves his life - his car, his apar...  \n",
       "2   Spain, March 1964: Quico is a very naughty ch...  \n",
       "3   One year in the life of Albin and his family ...  \n",
       "4   His father has died, he hasn't spoken with hi...  \n",
       "5   Before he was known internationally as a mart...  "
      ]
     },
     "execution_count": 4,
     "metadata": {},
     "output_type": "execute_result"
    }
   ],
   "source": [
    "# read the test data from test_data_solution.txt\n",
    "df_test=pd.read_csv('test_data_solution.txt',delimiter=':::' , engine='python' , names=columns , index_col=0 )\n",
    "df_test.head()"
   ]
  },
  {
   "cell_type": "markdown",
   "id": "88da1ff4-53d4-4ee6-8941-92bb3134bfc8",
   "metadata": {},
   "source": [
    "##  Data preprocessing"
   ]
  },
  {
   "cell_type": "code",
   "execution_count": 5,
   "id": "547be218-6cd8-4846-84d9-5bb2e5228a4c",
   "metadata": {},
   "outputs": [
    {
     "data": {
      "text/plain": [
       "(54214, 3)"
      ]
     },
     "execution_count": 5,
     "metadata": {},
     "output_type": "execute_result"
    }
   ],
   "source": [
    "df_train.shape"
   ]
  },
  {
   "cell_type": "code",
   "execution_count": 6,
   "id": "cad8bc9f-7a9e-4925-8f70-a1da3e094fc3",
   "metadata": {},
   "outputs": [
    {
     "data": {
      "text/plain": [
       "(54200, 3)"
      ]
     },
     "execution_count": 6,
     "metadata": {},
     "output_type": "execute_result"
    }
   ],
   "source": [
    "df_test.shape"
   ]
  },
  {
   "cell_type": "code",
   "execution_count": 7,
   "id": "eb87b0ef-51c6-4025-b133-20bc4cf18cb0",
   "metadata": {},
   "outputs": [
    {
     "data": {
      "text/html": [
       "<div>\n",
       "<style scoped>\n",
       "    .dataframe tbody tr th:only-of-type {\n",
       "        vertical-align: middle;\n",
       "    }\n",
       "\n",
       "    .dataframe tbody tr th {\n",
       "        vertical-align: top;\n",
       "    }\n",
       "\n",
       "    .dataframe thead th {\n",
       "        text-align: right;\n",
       "    }\n",
       "</style>\n",
       "<table border=\"1\" class=\"dataframe\">\n",
       "  <thead>\n",
       "    <tr style=\"text-align: right;\">\n",
       "      <th></th>\n",
       "      <th>Movie Name</th>\n",
       "      <th>Genre</th>\n",
       "      <th>Description</th>\n",
       "    </tr>\n",
       "  </thead>\n",
       "  <tbody>\n",
       "    <tr>\n",
       "      <th>count</th>\n",
       "      <td>54214</td>\n",
       "      <td>54214</td>\n",
       "      <td>54214</td>\n",
       "    </tr>\n",
       "    <tr>\n",
       "      <th>unique</th>\n",
       "      <td>54214</td>\n",
       "      <td>27</td>\n",
       "      <td>54086</td>\n",
       "    </tr>\n",
       "    <tr>\n",
       "      <th>top</th>\n",
       "      <td>Oscar et la dame rose (2009)</td>\n",
       "      <td>drama</td>\n",
       "      <td>Grammy - music award of the American academy ...</td>\n",
       "    </tr>\n",
       "    <tr>\n",
       "      <th>freq</th>\n",
       "      <td>1</td>\n",
       "      <td>13613</td>\n",
       "      <td>12</td>\n",
       "    </tr>\n",
       "  </tbody>\n",
       "</table>\n",
       "</div>"
      ],
      "text/plain": [
       "                            Movie Name    Genre  \\\n",
       "count                            54214    54214   \n",
       "unique                           54214       27   \n",
       "top      Oscar et la dame rose (2009)    drama    \n",
       "freq                                 1    13613   \n",
       "\n",
       "                                              Description  \n",
       "count                                               54214  \n",
       "unique                                              54086  \n",
       "top      Grammy - music award of the American academy ...  \n",
       "freq                                                   12  "
      ]
     },
     "execution_count": 7,
     "metadata": {},
     "output_type": "execute_result"
    }
   ],
   "source": [
    "df_train.describe()"
   ]
  },
  {
   "cell_type": "code",
   "execution_count": 8,
   "id": "67dddb99-c597-4af4-a813-15d78f93349b",
   "metadata": {},
   "outputs": [
    {
     "data": {
      "text/html": [
       "<div>\n",
       "<style scoped>\n",
       "    .dataframe tbody tr th:only-of-type {\n",
       "        vertical-align: middle;\n",
       "    }\n",
       "\n",
       "    .dataframe tbody tr th {\n",
       "        vertical-align: top;\n",
       "    }\n",
       "\n",
       "    .dataframe thead th {\n",
       "        text-align: right;\n",
       "    }\n",
       "</style>\n",
       "<table border=\"1\" class=\"dataframe\">\n",
       "  <thead>\n",
       "    <tr style=\"text-align: right;\">\n",
       "      <th></th>\n",
       "      <th>Movie Name</th>\n",
       "      <th>Genre</th>\n",
       "      <th>Description</th>\n",
       "    </tr>\n",
       "  </thead>\n",
       "  <tbody>\n",
       "    <tr>\n",
       "      <th>count</th>\n",
       "      <td>54200</td>\n",
       "      <td>54200</td>\n",
       "      <td>54200</td>\n",
       "    </tr>\n",
       "    <tr>\n",
       "      <th>unique</th>\n",
       "      <td>54200</td>\n",
       "      <td>27</td>\n",
       "      <td>54072</td>\n",
       "    </tr>\n",
       "    <tr>\n",
       "      <th>top</th>\n",
       "      <td>Edgar's Lunch (1998)</td>\n",
       "      <td>drama</td>\n",
       "      <td>Grammy - music award of the American academy ...</td>\n",
       "    </tr>\n",
       "    <tr>\n",
       "      <th>freq</th>\n",
       "      <td>1</td>\n",
       "      <td>13612</td>\n",
       "      <td>10</td>\n",
       "    </tr>\n",
       "  </tbody>\n",
       "</table>\n",
       "</div>"
      ],
      "text/plain": [
       "                    Movie Name    Genre  \\\n",
       "count                    54200    54200   \n",
       "unique                   54200       27   \n",
       "top      Edgar's Lunch (1998)    drama    \n",
       "freq                         1    13612   \n",
       "\n",
       "                                              Description  \n",
       "count                                               54200  \n",
       "unique                                              54072  \n",
       "top      Grammy - music award of the American academy ...  \n",
       "freq                                                   10  "
      ]
     },
     "execution_count": 8,
     "metadata": {},
     "output_type": "execute_result"
    }
   ],
   "source": [
    "df_test.describe()"
   ]
  },
  {
   "cell_type": "code",
   "execution_count": 9,
   "id": "bdc7c21d-d956-45d3-bbb4-29744bd01b5e",
   "metadata": {},
   "outputs": [],
   "source": [
    "# CONVERT THE 'DESCRIPTION' COLUMN TO LOWERCASE IN BOTH TRAINING AND TEST DATASETS\n",
    "df_train.loc[:,'Description'] = df_train['Description'].astype(str).str.lower()\n",
    "df_test.loc[:,'Description'] = df_test['Description'].astype(str).str.lower()"
   ]
  },
  {
   "cell_type": "code",
   "execution_count": 10,
   "id": "dc5f2f66-56a4-4369-ab34-4d3bfbde10bf",
   "metadata": {},
   "outputs": [],
   "source": [
    "# DROP THE 'MOVIE NAME' COLUMN FROM BOTH TRAINING AND TEST DATASETS\n",
    "df_train.drop(columns=['Movie Name'], inplace = True)\n",
    "df_test.drop(columns=['Movie Name'], inplace = True)"
   ]
  },
  {
   "cell_type": "code",
   "execution_count": 11,
   "id": "e57a776f-5cda-4494-9ea8-96aa2ed90766",
   "metadata": {},
   "outputs": [
    {
     "data": {
      "text/html": [
       "<div>\n",
       "<style scoped>\n",
       "    .dataframe tbody tr th:only-of-type {\n",
       "        vertical-align: middle;\n",
       "    }\n",
       "\n",
       "    .dataframe tbody tr th {\n",
       "        vertical-align: top;\n",
       "    }\n",
       "\n",
       "    .dataframe thead th {\n",
       "        text-align: right;\n",
       "    }\n",
       "</style>\n",
       "<table border=\"1\" class=\"dataframe\">\n",
       "  <thead>\n",
       "    <tr style=\"text-align: right;\">\n",
       "      <th></th>\n",
       "      <th>Genre</th>\n",
       "      <th>Description</th>\n",
       "    </tr>\n",
       "  </thead>\n",
       "  <tbody>\n",
       "    <tr>\n",
       "      <th>1</th>\n",
       "      <td>drama</td>\n",
       "      <td>listening in to a conversation between his do...</td>\n",
       "    </tr>\n",
       "    <tr>\n",
       "      <th>2</th>\n",
       "      <td>thriller</td>\n",
       "      <td>a brother and sister with a past incestuous r...</td>\n",
       "    </tr>\n",
       "    <tr>\n",
       "      <th>3</th>\n",
       "      <td>adult</td>\n",
       "      <td>as the bus empties the students for their fie...</td>\n",
       "    </tr>\n",
       "    <tr>\n",
       "      <th>4</th>\n",
       "      <td>drama</td>\n",
       "      <td>to help their unemployed father make ends mee...</td>\n",
       "    </tr>\n",
       "    <tr>\n",
       "      <th>5</th>\n",
       "      <td>drama</td>\n",
       "      <td>the film's title refers not only to the un-re...</td>\n",
       "    </tr>\n",
       "  </tbody>\n",
       "</table>\n",
       "</div>"
      ],
      "text/plain": [
       "        Genre                                        Description\n",
       "1      drama    listening in to a conversation between his do...\n",
       "2   thriller    a brother and sister with a past incestuous r...\n",
       "3      adult    as the bus empties the students for their fie...\n",
       "4      drama    to help their unemployed father make ends mee...\n",
       "5      drama    the film's title refers not only to the un-re..."
      ]
     },
     "execution_count": 11,
     "metadata": {},
     "output_type": "execute_result"
    }
   ],
   "source": [
    "df_train.head()"
   ]
  },
  {
   "cell_type": "code",
   "execution_count": 12,
   "id": "3cfd464d-e082-4c68-97b5-84f479c183e4",
   "metadata": {},
   "outputs": [
    {
     "data": {
      "text/html": [
       "<div>\n",
       "<style scoped>\n",
       "    .dataframe tbody tr th:only-of-type {\n",
       "        vertical-align: middle;\n",
       "    }\n",
       "\n",
       "    .dataframe tbody tr th {\n",
       "        vertical-align: top;\n",
       "    }\n",
       "\n",
       "    .dataframe thead th {\n",
       "        text-align: right;\n",
       "    }\n",
       "</style>\n",
       "<table border=\"1\" class=\"dataframe\">\n",
       "  <thead>\n",
       "    <tr style=\"text-align: right;\">\n",
       "      <th></th>\n",
       "      <th>Genre</th>\n",
       "      <th>Description</th>\n",
       "    </tr>\n",
       "  </thead>\n",
       "  <tbody>\n",
       "    <tr>\n",
       "      <th>1</th>\n",
       "      <td>thriller</td>\n",
       "      <td>l.r. brane loves his life - his car, his apar...</td>\n",
       "    </tr>\n",
       "    <tr>\n",
       "      <th>2</th>\n",
       "      <td>comedy</td>\n",
       "      <td>spain, march 1964: quico is a very naughty ch...</td>\n",
       "    </tr>\n",
       "    <tr>\n",
       "      <th>3</th>\n",
       "      <td>documentary</td>\n",
       "      <td>one year in the life of albin and his family ...</td>\n",
       "    </tr>\n",
       "    <tr>\n",
       "      <th>4</th>\n",
       "      <td>drama</td>\n",
       "      <td>his father has died, he hasn't spoken with hi...</td>\n",
       "    </tr>\n",
       "    <tr>\n",
       "      <th>5</th>\n",
       "      <td>drama</td>\n",
       "      <td>before he was known internationally as a mart...</td>\n",
       "    </tr>\n",
       "  </tbody>\n",
       "</table>\n",
       "</div>"
      ],
      "text/plain": [
       "           Genre                                        Description\n",
       "1      thriller    l.r. brane loves his life - his car, his apar...\n",
       "2        comedy    spain, march 1964: quico is a very naughty ch...\n",
       "3   documentary    one year in the life of albin and his family ...\n",
       "4         drama    his father has died, he hasn't spoken with hi...\n",
       "5         drama    before he was known internationally as a mart..."
      ]
     },
     "execution_count": 12,
     "metadata": {},
     "output_type": "execute_result"
    }
   ],
   "source": [
    "# DISPLAY THE FIRST FEW ROWS OF THE MODIFIED TEST DATASET\n",
    "df_test.head()"
   ]
  },
  {
   "cell_type": "markdown",
   "id": "6518dcf0-ae71-44ae-a058-eb1ea8d174ef",
   "metadata": {},
   "source": [
    "## Data visualization"
   ]
  },
  {
   "cell_type": "code",
   "execution_count": 13,
   "id": "fe08e750-ed8c-4209-a441-6f0f7d81138a",
   "metadata": {},
   "outputs": [
    {
     "name": "stdout",
     "output_type": "stream",
     "text": [
      "<class 'pandas.core.frame.DataFrame'>\n",
      "Index: 54214 entries, 1 to 54214\n",
      "Data columns (total 2 columns):\n",
      " #   Column       Non-Null Count  Dtype \n",
      "---  ------       --------------  ----- \n",
      " 0   Genre        54214 non-null  object\n",
      " 1   Description  54214 non-null  object\n",
      "dtypes: object(2)\n",
      "memory usage: 1.2+ MB\n"
     ]
    }
   ],
   "source": [
    "df_train.info()"
   ]
  },
  {
   "cell_type": "code",
   "execution_count": 14,
   "id": "2ba8d377-612f-4567-88a0-6b29688f6959",
   "metadata": {},
   "outputs": [
    {
     "name": "stdout",
     "output_type": "stream",
     "text": [
      "<class 'pandas.core.frame.DataFrame'>\n",
      "Index: 54200 entries, 1 to 54200\n",
      "Data columns (total 2 columns):\n",
      " #   Column       Non-Null Count  Dtype \n",
      "---  ------       --------------  ----- \n",
      " 0   Genre        54200 non-null  object\n",
      " 1   Description  54200 non-null  object\n",
      "dtypes: object(2)\n",
      "memory usage: 1.2+ MB\n"
     ]
    }
   ],
   "source": [
    "df_test.info()"
   ]
  },
  {
   "cell_type": "code",
   "execution_count": 15,
   "id": "603d376b-825c-43fd-91fd-e3c477c91978",
   "metadata": {},
   "outputs": [
    {
     "data": {
      "text/plain": [
       "(54214, 2)"
      ]
     },
     "execution_count": 15,
     "metadata": {},
     "output_type": "execute_result"
    }
   ],
   "source": [
    "df_train.shape"
   ]
  },
  {
   "cell_type": "code",
   "execution_count": 16,
   "id": "1b73934b-e17e-47d4-89b5-a096795a4294",
   "metadata": {},
   "outputs": [
    {
     "data": {
      "text/plain": [
       "(54200, 2)"
      ]
     },
     "execution_count": 16,
     "metadata": {},
     "output_type": "execute_result"
    }
   ],
   "source": [
    "df_test.shape"
   ]
  },
  {
   "cell_type": "code",
   "execution_count": 17,
   "id": "8f3e5f8b-4d0e-4b6e-9aab-f2b0f467fb8f",
   "metadata": {},
   "outputs": [
    {
     "data": {
      "text/html": [
       "<div>\n",
       "<style scoped>\n",
       "    .dataframe tbody tr th:only-of-type {\n",
       "        vertical-align: middle;\n",
       "    }\n",
       "\n",
       "    .dataframe tbody tr th {\n",
       "        vertical-align: top;\n",
       "    }\n",
       "\n",
       "    .dataframe thead th {\n",
       "        text-align: right;\n",
       "    }\n",
       "</style>\n",
       "<table border=\"1\" class=\"dataframe\">\n",
       "  <thead>\n",
       "    <tr style=\"text-align: right;\">\n",
       "      <th></th>\n",
       "      <th>Genre</th>\n",
       "      <th>Description</th>\n",
       "    </tr>\n",
       "  </thead>\n",
       "  <tbody>\n",
       "    <tr>\n",
       "      <th>count</th>\n",
       "      <td>54214</td>\n",
       "      <td>54214</td>\n",
       "    </tr>\n",
       "    <tr>\n",
       "      <th>unique</th>\n",
       "      <td>27</td>\n",
       "      <td>54085</td>\n",
       "    </tr>\n",
       "    <tr>\n",
       "      <th>top</th>\n",
       "      <td>drama</td>\n",
       "      <td>grammy - music award of the american academy ...</td>\n",
       "    </tr>\n",
       "    <tr>\n",
       "      <th>freq</th>\n",
       "      <td>13613</td>\n",
       "      <td>12</td>\n",
       "    </tr>\n",
       "  </tbody>\n",
       "</table>\n",
       "</div>"
      ],
      "text/plain": [
       "          Genre                                        Description\n",
       "count     54214                                              54214\n",
       "unique       27                                              54085\n",
       "top      drama    grammy - music award of the american academy ...\n",
       "freq      13613                                                 12"
      ]
     },
     "execution_count": 17,
     "metadata": {},
     "output_type": "execute_result"
    }
   ],
   "source": [
    "df_train.describe()"
   ]
  },
  {
   "cell_type": "code",
   "execution_count": 18,
   "id": "7bf4cef8-ef8b-47ac-aca8-83a4d9703eb2",
   "metadata": {},
   "outputs": [
    {
     "data": {
      "text/html": [
       "<div>\n",
       "<style scoped>\n",
       "    .dataframe tbody tr th:only-of-type {\n",
       "        vertical-align: middle;\n",
       "    }\n",
       "\n",
       "    .dataframe tbody tr th {\n",
       "        vertical-align: top;\n",
       "    }\n",
       "\n",
       "    .dataframe thead th {\n",
       "        text-align: right;\n",
       "    }\n",
       "</style>\n",
       "<table border=\"1\" class=\"dataframe\">\n",
       "  <thead>\n",
       "    <tr style=\"text-align: right;\">\n",
       "      <th></th>\n",
       "      <th>Genre</th>\n",
       "      <th>Description</th>\n",
       "    </tr>\n",
       "  </thead>\n",
       "  <tbody>\n",
       "    <tr>\n",
       "      <th>count</th>\n",
       "      <td>54200</td>\n",
       "      <td>54200</td>\n",
       "    </tr>\n",
       "    <tr>\n",
       "      <th>unique</th>\n",
       "      <td>27</td>\n",
       "      <td>54071</td>\n",
       "    </tr>\n",
       "    <tr>\n",
       "      <th>top</th>\n",
       "      <td>drama</td>\n",
       "      <td>grammy - music award of the american academy ...</td>\n",
       "    </tr>\n",
       "    <tr>\n",
       "      <th>freq</th>\n",
       "      <td>13612</td>\n",
       "      <td>10</td>\n",
       "    </tr>\n",
       "  </tbody>\n",
       "</table>\n",
       "</div>"
      ],
      "text/plain": [
       "          Genre                                        Description\n",
       "count     54200                                              54200\n",
       "unique       27                                              54071\n",
       "top      drama    grammy - music award of the american academy ...\n",
       "freq      13612                                                 10"
      ]
     },
     "execution_count": 18,
     "metadata": {},
     "output_type": "execute_result"
    }
   ],
   "source": [
    "df_test.describe()"
   ]
  },
  {
   "cell_type": "code",
   "execution_count": 19,
   "id": "273d0e05-cfa0-426f-8a9a-b29ac93904d2",
   "metadata": {},
   "outputs": [
    {
     "data": {
      "image/png": "[encoded data removed]",
      "text/plain": [
       "<Figure size 1000x600 with 1 Axes>"
      ]
     },
     "metadata": {},
     "output_type": "display_data"
    }
   ],
   "source": [
    "# IMPORTING VISUALIZATION LIBRARIES\n",
    "import seaborn as sns\n",
    "import matplotlib.pyplot as plt\n",
    "\n",
    "# PLOT THE DISTRIBUTION OF GENRES IN THE TRAINING DATASET\n",
    "plt.figure(figsize=(10,6))\n",
    "sns.countplot(x='Genre' , data=df_train , order=df_train['Genre'].value_counts().index ,palette='viridis')\n",
    "plt.title('Genre Distribution of train data')\n",
    "plt.xlabel('Genre')\n",
    "plt.ylabel('Count')\n",
    "plt.xticks(rotation=90)\n",
    "plt.show()"
   ]
  },
  {
   "cell_type": "code",
   "execution_count": 20,
   "id": "99730d31-337d-444c-a379-f80b4e93ffe2",
   "metadata": {},
   "outputs": [
    {
     "data": {
      "image/png": "[encoded data removed]",
      "text/plain": [
       "<Figure size 1000x600 with 1 Axes>"
      ]
     },
     "metadata": {},
     "output_type": "display_data"
    }
   ],
   "source": [
    "# IMPORTING VISUALIZATION LIBRARIES\n",
    "import seaborn as sns\n",
    "import matplotlib.pyplot as plt\n",
    "\n",
    "# PLOT THE DISTRIBUTION OF GENRES IN THE TRAINING DATASET\n",
    "plt.figure(figsize=(10,6))\n",
    "sns.countplot(x='Genre' , data=df_test , order=df_train['Genre'].value_counts().index ,palette='viridis')\n",
    "plt.title('Genre Distribution of test data')\n",
    "plt.xlabel('Genre')\n",
    "plt.ylabel('Count')\n",
    "plt.xticks(rotation=90)\n",
    "plt.show()"
   ]
  },
  {
   "cell_type": "markdown",
   "id": "f00af48e-723d-4040-ba2e-9487b77bdb85",
   "metadata": {},
   "source": [
    "## Data cleaning"
   ]
  },
  {
   "cell_type": "code",
   "execution_count": 21,
   "id": "b9a65a82-6d91-42df-a1b3-9bbd42177d51",
   "metadata": {},
   "outputs": [
    {
     "name": "stdout",
     "output_type": "stream",
     "text": [
      "TRAINING DUPLICATES: 110\n"
     ]
    }
   ],
   "source": [
    "# CHECK FOR DUPLICATE ROWS IN THE TRAINING DATASET\n",
    "print(\"TRAINING DUPLICATES:\", df_train.duplicated().sum())"
   ]
  },
  {
   "cell_type": "code",
   "execution_count": 22,
   "id": "0df6dd25-8ac5-420b-9f08-af07ed4d2921",
   "metadata": {},
   "outputs": [
    {
     "name": "stdout",
     "output_type": "stream",
     "text": [
      "TEST DUPLICATES: 114\n"
     ]
    }
   ],
   "source": [
    "# CHECK FOR DUPLICATE ROWS IN THE TEST DATASET\n",
    "print(\"TEST DUPLICATES:\", df_test.duplicated().sum())"
   ]
  },
  {
   "cell_type": "code",
   "execution_count": 23,
   "id": "cad81f05-1656-4388-9245-c7b81d9d6e81",
   "metadata": {},
   "outputs": [
    {
     "data": {
      "text/plain": [
       "Genre\n",
       " drama           13613\n",
       " documentary     13096\n",
       " comedy           7447\n",
       " short            5073\n",
       " horror           2204\n",
       " thriller         1591\n",
       " action           1315\n",
       " western          1032\n",
       " reality-tv        884\n",
       " family            784\n",
       " adventure         775\n",
       " music             731\n",
       " romance           672\n",
       " sci-fi            647\n",
       " adult             590\n",
       " crime             505\n",
       " animation         498\n",
       " sport             432\n",
       " talk-show         391\n",
       " fantasy           323\n",
       " mystery           319\n",
       " musical           277\n",
       " biography         265\n",
       " history           243\n",
       " game-show         194\n",
       " news              181\n",
       " war               132\n",
       "Name: count, dtype: int64"
      ]
     },
     "execution_count": 23,
     "metadata": {},
     "output_type": "execute_result"
    }
   ],
   "source": [
    "df_train.Genre.value_counts()"
   ]
  },
  {
   "cell_type": "code",
   "execution_count": 24,
   "id": "c5a63530-10ca-4f76-8479-9b91ef823bbe",
   "metadata": {},
   "outputs": [
    {
     "data": {
      "text/plain": [
       "Genre\n",
       " drama           13612\n",
       " documentary     13096\n",
       " comedy           7446\n",
       " short            5072\n",
       " horror           2204\n",
       " thriller         1590\n",
       " action           1314\n",
       " western          1032\n",
       " reality-tv        883\n",
       " family            783\n",
       " adventure         775\n",
       " music             731\n",
       " romance           672\n",
       " sci-fi            646\n",
       " adult             590\n",
       " crime             505\n",
       " animation         498\n",
       " sport             431\n",
       " talk-show         391\n",
       " fantasy           322\n",
       " mystery           318\n",
       " musical           276\n",
       " biography         264\n",
       " history           243\n",
       " game-show         193\n",
       " news              181\n",
       " war               132\n",
       "Name: count, dtype: int64"
      ]
     },
     "execution_count": 24,
     "metadata": {},
     "output_type": "execute_result"
    }
   ],
   "source": [
    "df_test.Genre.value_counts()"
   ]
  },
  {
   "cell_type": "code",
   "execution_count": 25,
   "id": "4d46562a-6532-4641-8c5a-d034b952dda7",
   "metadata": {},
   "outputs": [],
   "source": [
    "# DROP DUPLICATE ROWS FROM THE TRAINING DATASET\n",
    "df_train = df_train.drop_duplicates(keep ='first')\n",
    "\n",
    "# DROP DUPLICATE ROWS FROM THE TEST DATASET\n",
    "df_test = df_test.drop_duplicates(keep = 'first')"
   ]
  },
  {
   "cell_type": "code",
   "execution_count": 26,
   "id": "6a0323ce-09ff-4363-bc6b-d2e777436cd3",
   "metadata": {},
   "outputs": [
    {
     "name": "stdout",
     "output_type": "stream",
     "text": [
      "TRAINING DUPLICATES AFTER REMOVAL: 0\n",
      "TEST DUPLICATES AFTER REMOVAL: 0\n"
     ]
    }
   ],
   "source": [
    "# VERIFY NO DUPLICATES REMAIN IN THE TRAINING DATASET\n",
    "print(\"TRAINING DUPLICATES AFTER REMOVAL:\", df_train.duplicated().sum())\n",
    "\n",
    "# VERIFY NO DUPLICATES REMAIN IN THE TEST DATASET\n",
    "print(\"TEST DUPLICATES AFTER REMOVAL:\", df_test.duplicated().sum())"
   ]
  },
  {
   "cell_type": "code",
   "execution_count": 27,
   "id": "64992acf-4fd8-4a18-af4e-eaa7b0be8382",
   "metadata": {},
   "outputs": [
    {
     "name": "stdout",
     "output_type": "stream",
     "text": [
      "(54104, 2)\n",
      "(54086, 2)\n"
     ]
    }
   ],
   "source": [
    "# DISPLAY THE SHAPE OF THE TRAINING DATASET AFTER REMOVING DUPLICATES\n",
    "print(df_train.shape)\n",
    "\n",
    "# DISPLAY THE SHAPE OF THE TEST DATASET AFTER REMOVING DUPLICATES\n",
    "print(df_test.shape)"
   ]
  },
  {
   "cell_type": "code",
   "execution_count": 28,
   "id": "71c36693-a84b-43f8-a75a-60633bcdbb68",
   "metadata": {},
   "outputs": [
    {
     "name": "stdout",
     "output_type": "stream",
     "text": [
      "TRAINING DUPLICATES AFTER REMOVAL: 0\n",
      "TEST DUPLICATES AFTER REMOVAL: 0\n"
     ]
    }
   ],
   "source": [
    "# VERIFY NO DUPLICATES REMAIN IN THE TRAINING DATASET\n",
    "print(\"TRAINING DUPLICATES AFTER REMOVAL:\", df_train.duplicated().sum())\n",
    "\n",
    "# VERIFY NO DUPLICATES REMAIN IN THE TEST DATASET\n",
    "print(\"TEST DUPLICATES AFTER REMOVAL:\", df_test.duplicated().sum())"
   ]
  },
  {
   "cell_type": "code",
   "execution_count": 29,
   "id": "b3a9887f-b6fa-4d0a-a871-51ba5a6f35a9",
   "metadata": {},
   "outputs": [],
   "source": [
    "# SEPARATE FEATURES AND LABELS FOR TRAINING AND TEST DATASETS\n",
    "x_train_full = df_train['Description']\n",
    "y_train_full = df_train['Genre']\n",
    "\n",
    "x_test = df_test['Description']\n",
    "y_test = df_test['Genre']"
   ]
  },
  {
   "cell_type": "code",
   "execution_count": 30,
   "id": "dc8fca17-84be-4245-af7a-317dcbf40413",
   "metadata": {},
   "outputs": [
    {
     "name": "stdout",
     "output_type": "stream",
     "text": [
      "(54104,)\n",
      "(54104,)\n"
     ]
    }
   ],
   "source": [
    "# DISPLAY THE SHAPES OF THE FEATURE AND LABEL ARRAYS FOR THE TRAINING DATASET\n",
    "print(x_train_full.shape)\n",
    "print(y_train_full.shape)"
   ]
  },
  {
   "cell_type": "code",
   "execution_count": 31,
   "id": "e8c5fa3c-1f8b-49aa-9b47-a151c55cf1e0",
   "metadata": {},
   "outputs": [
    {
     "name": "stdout",
     "output_type": "stream",
     "text": [
      "(54086,)\n",
      "(54086,)\n"
     ]
    }
   ],
   "source": [
    "# DISPLAY THE SHAPES OF THE FEATURE AND LABEL ARRAYS FOR THE TEST DATASET\n",
    "print(x_test.shape)\n",
    "print(y_test.shape)"
   ]
  },
  {
   "cell_type": "markdown",
   "id": "6b813096-6042-4c14-9410-ea930287f27f",
   "metadata": {},
   "source": [
    "## Data spliting"
   ]
  },
  {
   "cell_type": "code",
   "execution_count": 32,
   "id": "95edeeab-f626-455a-9242-3ede63a4c846",
   "metadata": {},
   "outputs": [],
   "source": [
    "# IMPORTING train_test_split FROM sklearn TO SPLIT THE DATA\n",
    "from sklearn.model_selection import train_test_split\n",
    "\n",
    "# SPLIT THE TRAINING DATA INTO TRAINING AND VALIDATION SETS\n",
    "X_train , X_val , Y_train , Y_val = train_test_split(x_train_full , y_train_full , test_size=0.2 , random_state=3)"
   ]
  },
  {
   "cell_type": "code",
   "execution_count": 33,
   "id": "1cb5c9c8-67ac-4463-82b7-a84ad6e56771",
   "metadata": {},
   "outputs": [
    {
     "name": "stdout",
     "output_type": "stream",
     "text": [
      "(43283,)\n",
      "(10821,)\n",
      "(54086,)\n",
      "\n",
      "\n",
      "(43283,)\n",
      "(10821,)\n",
      "(54086,)\n"
     ]
    }
   ],
   "source": [
    "# DISPLAY THE SHAPES OF THE TRAINING , VALIDATION AND TEST FEATURE SETS\n",
    "print(X_train.shape)\n",
    "print(X_val.shape)\n",
    "print(x_test.shape)\n",
    "\n",
    "print('\\n')\n",
    "\n",
    "# DISPLAY THE SHAPES OF THE TRAINING , VALIDATION AND TEST LABEL SETS\n",
    "print(Y_train.shape)\n",
    "print(Y_val.shape)\n",
    "print(y_test.shape)"
   ]
  },
  {
   "cell_type": "markdown",
   "id": "1d778d93-7396-463e-83f2-80bb458ecbc7",
   "metadata": {},
   "source": [
    "## Feature extraction"
   ]
  },
  {
   "cell_type": "code",
   "execution_count": 38,
   "id": "11a7d53c-387e-4193-9239-de24b9624518",
   "metadata": {},
   "outputs": [],
   "source": [
    "# IMPORT TfidfVectorizer FROM sklearn FOR FEATURE EXTRACTION\n",
    "from sklearn.feature_extraction.text import TfidfVectorizer\n",
    "\n",
    "# INITIALIZE TF-IDF VECTORIZER\n",
    "tfidf = TfidfVectorizer(stop_words ='english' , max_features=5000)\n",
    "\n",
    "# FIT AND TRANSFORM THE TRAINING FEATURES, AND TRANSFORM THE VALIDATION AND TEST FEATURES\n",
    "X_train_vec = tfidf.fit_transform(X_train)\n",
    "X_val_vec = tfidf.transform(X_val)\n",
    "X_test_vec = tfidf.transform(x_test)"
   ]
  },
  {
   "cell_type": "code",
   "execution_count": 39,
   "id": "f493ff86-b631-46a2-92f9-6974528c9722",
   "metadata": {},
   "outputs": [
    {
     "name": "stdout",
     "output_type": "stream",
     "text": [
      "  (0, 2221)\t0.15556171842975075\n",
      "  (0, 2619)\t0.17349076508188144\n",
      "  (0, 3767)\t0.21983401267770547\n",
      "  (0, 2866)\t0.18143707449963564\n",
      "  (0, 1533)\t0.21526482714459114\n",
      "  (0, 4745)\t0.17162250822998545\n",
      "  (0, 4665)\t0.1587562909523703\n",
      "  (0, 721)\t0.20238103840631289\n",
      "  (0, 1155)\t0.18428632450040947\n",
      "  (0, 4928)\t0.24415075097952432\n",
      "  (0, 395)\t0.2180172619419327\n",
      "  (0, 4348)\t0.2178812677393204\n",
      "  (0, 2676)\t0.17392474460964946\n",
      "  (0, 3640)\t0.14433367072849596\n",
      "  (0, 4808)\t0.2513458747501787\n",
      "  (0, 2993)\t0.20988825539217143\n",
      "  (0, 3652)\t0.21641855741390958\n",
      "  (0, 4161)\t0.2582027491741023\n",
      "  (0, 3388)\t0.171585380369111\n",
      "  (0, 368)\t0.222358446244125\n",
      "  (0, 2896)\t0.2542321680673501\n",
      "  (0, 1763)\t0.15986126809110177\n",
      "  (0, 4915)\t0.21010592945082948\n",
      "  (0, 2022)\t0.1406243902128954\n",
      "  (0, 2883)\t0.17063336568374018\n",
      "  :\t:\n",
      "  (43281, 3318)\t0.08871631439103206\n",
      "  (43281, 3943)\t0.11535727151026254\n",
      "  (43281, 4988)\t0.17096619327885207\n",
      "  (43281, 4539)\t0.264866114295404\n",
      "  (43281, 2126)\t0.05380171790376715\n",
      "  (43281, 3533)\t0.08438157535703168\n",
      "  (43281, 4686)\t0.07795842280304179\n",
      "  (43281, 4745)\t0.07118029068875066\n",
      "  (43281, 3640)\t0.05986226832707347\n",
      "  (43282, 2191)\t0.2621387522980107\n",
      "  (43282, 3863)\t0.5520279435636848\n",
      "  (43282, 3229)\t0.2562632291558345\n",
      "  (43282, 2568)\t0.26866068608654137\n",
      "  (43282, 4965)\t0.2038872867456881\n",
      "  (43282, 3714)\t0.2542820144905054\n",
      "  (43282, 1534)\t0.21669112614216884\n",
      "  (43282, 1697)\t0.2478160250566263\n",
      "  (43282, 1779)\t0.15883887703141375\n",
      "  (43282, 677)\t0.2130731315467455\n",
      "  (43282, 4873)\t0.24374032347138394\n",
      "  (43282, 1262)\t0.1947957839348134\n",
      "  (43282, 3176)\t0.15799321922752355\n",
      "  (43282, 1524)\t0.14447563420894566\n",
      "  (43282, 3901)\t0.22872227858348035\n",
      "  (43282, 2676)\t0.08926468673728397\n"
     ]
    }
   ],
   "source": [
    "print(X_train_vec)"
   ]
  },
  {
   "cell_type": "code",
   "execution_count": 40,
   "id": "b70785aa-21b5-4004-aedd-d082cd93587c",
   "metadata": {},
   "outputs": [
    {
     "name": "stdout",
     "output_type": "stream",
     "text": [
      "  (0, 4988)\t0.0789356693671568\n",
      "  (0, 4984)\t0.08392935831558798\n",
      "  (0, 4823)\t0.1699673270728942\n",
      "  (0, 4822)\t0.15184096987287565\n",
      "  (0, 4789)\t0.1444281412445563\n",
      "  (0, 4548)\t0.12731900891112127\n",
      "  (0, 4500)\t0.18594667918816937\n",
      "  (0, 4487)\t0.1611856698243227\n",
      "  (0, 4379)\t0.18452326415270517\n",
      "  (0, 4205)\t0.18065001085200383\n",
      "  (0, 4038)\t0.14681567168060608\n",
      "  (0, 3993)\t0.2507672296390944\n",
      "  (0, 3713)\t0.1445197451112777\n",
      "  (0, 3553)\t0.1870107717701269\n",
      "  (0, 3537)\t0.18927187160921352\n",
      "  (0, 3441)\t0.13312865692523843\n",
      "  (0, 3048)\t0.3714774821722836\n",
      "  (0, 2750)\t0.0843072141023085\n",
      "  (0, 2707)\t0.1806276724602093\n",
      "  (0, 2225)\t0.1651765940054613\n",
      "  (0, 1824)\t0.1112249982903106\n",
      "  (0, 1772)\t0.14330825792449486\n",
      "  (0, 1771)\t0.07686138816321719\n",
      "  (0, 1702)\t0.08551554358417436\n",
      "  (0, 1693)\t0.13025980924794564\n",
      "  :\t:\n",
      "  (10820, 3481)\t0.1221429351678253\n",
      "  (10820, 3480)\t0.14768634264874603\n",
      "  (10820, 3423)\t0.10363041529374188\n",
      "  (10820, 3263)\t0.1646856699487256\n",
      "  (10820, 3236)\t0.15310286246678584\n",
      "  (10820, 2964)\t0.09316534641862285\n",
      "  (10820, 2795)\t0.07927181328253212\n",
      "  (10820, 2249)\t0.16293453060503998\n",
      "  (10820, 2086)\t0.14351505796616573\n",
      "  (10820, 1967)\t0.12292554210337518\n",
      "  (10820, 1951)\t0.08318837894949412\n",
      "  (10820, 1824)\t0.1861257574151019\n",
      "  (10820, 1771)\t0.2572422442392829\n",
      "  (10820, 1692)\t0.2997833302750845\n",
      "  (10820, 1676)\t0.12802030874636014\n",
      "  (10820, 1365)\t0.07838764861068036\n",
      "  (10820, 1322)\t0.10133376627373784\n",
      "  (10820, 828)\t0.1399882870188363\n",
      "  (10820, 827)\t0.1606447487218686\n",
      "  (10820, 789)\t0.18653655024139762\n",
      "  (10820, 787)\t0.20031559039819294\n",
      "  (10820, 769)\t0.16130794659419576\n",
      "  (10820, 445)\t0.09754065093797126\n",
      "  (10820, 179)\t0.12936809088213594\n",
      "  (10820, 94)\t0.11159321936324937\n"
     ]
    }
   ],
   "source": [
    "print(X_val_vec)"
   ]
  },
  {
   "cell_type": "markdown",
   "id": "d75db246-e2f1-4bb2-9eff-e972ab0e866d",
   "metadata": {},
   "source": [
    "## Model training using Naive Bayes"
   ]
  },
  {
   "cell_type": "code",
   "execution_count": 41,
   "id": "6a5942d1-63ce-4d33-b5ec-7243e8db33d5",
   "metadata": {},
   "outputs": [
    {
     "data": {
      "text/html": [
       "<style>#sk-container-id-2 {color: black;background-color: white;}#sk-container-id-2 pre{padding: 0;}#sk-container-id-2 div.sk-toggleable {background-color: white;}#sk-container-id-2 label.sk-toggleable__label {cursor: pointer;display: block;width: 100%;margin-bottom: 0;padding: 0.3em;box-sizing: border-box;text-align: center;}#sk-container-id-2 label.sk-toggleable__label-arrow:before {content: \"▸\";float: left;margin-right: 0.25em;color: #696969;}#sk-container-id-2 label.sk-toggleable__label-arrow:hover:before {color: black;}#sk-container-id-2 div.sk-estimator:hover label.sk-toggleable__label-arrow:before {color: black;}#sk-container-id-2 div.sk-toggleable__content {max-height: 0;max-width: 0;overflow: hidden;text-align: left;background-color: #f0f8ff;}#sk-container-id-2 div.sk-toggleable__content pre {margin: 0.2em;color: black;border-radius: 0.25em;background-color: #f0f8ff;}#sk-container-id-2 input.sk-toggleable__control:checked~div.sk-toggleable__content {max-height: 200px;max-width: 100%;overflow: auto;}#sk-container-id-2 input.sk-toggleable__control:checked~label.sk-toggleable__label-arrow:before {content: \"▾\";}#sk-container-id-2 div.sk-estimator input.sk-toggleable__control:checked~label.sk-toggleable__label {background-color: #d4ebff;}#sk-container-id-2 div.sk-label input.sk-toggleable__control:checked~label.sk-toggleable__label {background-color: #d4ebff;}#sk-container-id-2 input.sk-hidden--visually {border: 0;clip: rect(1px 1px 1px 1px);clip: rect(1px, 1px, 1px, 1px);height: 1px;margin: -1px;overflow: hidden;padding: 0;position: absolute;width: 1px;}#sk-container-id-2 div.sk-estimator {font-family: monospace;background-color: #f0f8ff;border: 1px dotted black;border-radius: 0.25em;box-sizing: border-box;margin-bottom: 0.5em;}#sk-container-id-2 div.sk-estimator:hover {background-color: #d4ebff;}#sk-container-id-2 div.sk-parallel-item::after {content: \"\";width: 100%;border-bottom: 1px solid gray;flex-grow: 1;}#sk-container-id-2 div.sk-label:hover label.sk-toggleable__label {background-color: #d4ebff;}#sk-container-id-2 div.sk-serial::before {content: \"\";position: absolute;border-left: 1px solid gray;box-sizing: border-box;top: 0;bottom: 0;left: 50%;z-index: 0;}#sk-container-id-2 div.sk-serial {display: flex;flex-direction: column;align-items: center;background-color: white;padding-right: 0.2em;padding-left: 0.2em;position: relative;}#sk-container-id-2 div.sk-item {position: relative;z-index: 1;}#sk-container-id-2 div.sk-parallel {display: flex;align-items: stretch;justify-content: center;background-color: white;position: relative;}#sk-container-id-2 div.sk-item::before, #sk-container-id-2 div.sk-parallel-item::before {content: \"\";position: absolute;border-left: 1px solid gray;box-sizing: border-box;top: 0;bottom: 0;left: 50%;z-index: -1;}#sk-container-id-2 div.sk-parallel-item {display: flex;flex-direction: column;z-index: 1;position: relative;background-color: white;}#sk-container-id-2 div.sk-parallel-item:first-child::after {align-self: flex-end;width: 50%;}#sk-container-id-2 div.sk-parallel-item:last-child::after {align-self: flex-start;width: 50%;}#sk-container-id-2 div.sk-parallel-item:only-child::after {width: 0;}#sk-container-id-2 div.sk-dashed-wrapped {border: 1px dashed gray;margin: 0 0.4em 0.5em 0.4em;box-sizing: border-box;padding-bottom: 0.4em;background-color: white;}#sk-container-id-2 div.sk-label label {font-family: monospace;font-weight: bold;display: inline-block;line-height: 1.2em;}#sk-container-id-2 div.sk-label-container {text-align: center;}#sk-container-id-2 div.sk-container {/* jupyter's `normalize.less` sets `[hidden] { display: none; }` but bootstrap.min.css set `[hidden] { display: none !important; }` so we also need the `!important` here to be able to override the default hidden behavior on the sphinx rendered scikit-learn.org. See: https://github.com/scikit-learn/scikit-learn/issues/21755 */display: inline-block !important;position: relative;}#sk-container-id-2 div.sk-text-repr-fallback {display: none;}</style><div id=\"sk-container-id-2\" class=\"sk-top-container\"><div class=\"sk-text-repr-fallback\"><pre>MultinomialNB()</pre><b>In a Jupyter environment, please rerun this cell to show the HTML representation or trust the notebook. <br />On GitHub, the HTML representation is unable to render, please try loading this page with nbviewer.org.</b></div><div class=\"sk-container\" hidden><div class=\"sk-item\"><div class=\"sk-estimator sk-toggleable\"><input class=\"sk-toggleable__control sk-hidden--visually\" id=\"sk-estimator-id-2\" type=\"checkbox\" checked><label for=\"sk-estimator-id-2\" class=\"sk-toggleable__label sk-toggleable__label-arrow\">MultinomialNB</label><div class=\"sk-toggleable__content\"><pre>MultinomialNB()</pre></div></div></div></div></div>"
      ],
      "text/plain": [
       "MultinomialNB()"
      ]
     },
     "execution_count": 41,
     "metadata": {},
     "output_type": "execute_result"
    }
   ],
   "source": [
    "# IMPORT MULTINOMIAL NAIVE BAYES CLASSIFIER FROM sklearn\n",
    "from sklearn.naive_bayes import MultinomialNB\n",
    "\n",
    "# TRAIN THE MULTINOMIAL NAIVE BAYES CLASSIFIER\n",
    "nb = MultinomialNB()\n",
    "nb.fit(X_train_vec, Y_train)"
   ]
  },
  {
   "cell_type": "markdown",
   "id": "d9e74b79-0635-4808-bce7-e0ff2a4200ac",
   "metadata": {},
   "source": [
    "## model evalution"
   ]
  },
  {
   "cell_type": "code",
   "execution_count": 42,
   "id": "d410857b-d96e-46c0-a176-acad74ae0765",
   "metadata": {},
   "outputs": [],
   "source": [
    "# MAKE PREDICTIONS ON THE VALIDATION SET\n",
    "y_pred_val = nb.predict(X_val_vec)"
   ]
  },
  {
   "cell_type": "code",
   "execution_count": 43,
   "id": "a8daa1dd-dde2-49da-956a-aaed83e33cbe",
   "metadata": {},
   "outputs": [
    {
     "name": "stdout",
     "output_type": "stream",
     "text": [
      "Validation Accuracy: 0.5197301543295444\n"
     ]
    }
   ],
   "source": [
    "# IMPORT EVALUATION METRICS FROM sklearn\n",
    "from sklearn.metrics import accuracy_score, classification_report\n",
    "\n",
    "# EVALUATE THE MODEL ON THE VALIDATION SET\n",
    "accuracy_val = accuracy_score(Y_val, y_pred_val)\n",
    "print(\"Validation Accuracy:\", accuracy_val)"
   ]
  },
  {
   "cell_type": "code",
   "execution_count": 44,
   "id": "f284141f-a361-4405-ad30-403798442331",
   "metadata": {},
   "outputs": [
    {
     "name": "stdout",
     "output_type": "stream",
     "text": [
      "\n",
      "Test Accuracy: 0.5181932477905558\n"
     ]
    }
   ],
   "source": [
    "# MAKE PREDICTIONS ON THE TEST SET\n",
    "y_pred_test = nb.predict(X_test_vec)\n",
    "\n",
    "# EVALUATE THE MODEL ON THE TEST SET\n",
    "accuracy_test = accuracy_score(y_test, y_pred_test)\n",
    "print(\"\\nTest Accuracy:\", accuracy_test)"
   ]
  },
  {
   "cell_type": "code",
   "execution_count": 45,
   "id": "89be7ad5-fcf4-40b0-b767-a4c993e2a0f5",
   "metadata": {},
   "outputs": [
    {
     "name": "stdout",
     "output_type": "stream",
     "text": [
      "\n",
      "Train Accuracy: 0.5507243028440727\n"
     ]
    }
   ],
   "source": [
    "# MAKE PREDICTIONS ON THE TEST SET\n",
    "y_pred_train = nb.predict(X_train_vec)\n",
    "\n",
    "# EVALUATE THE MODEL ON THE TEST SET\n",
    "accuracy_train = accuracy_score(Y_train, y_pred_train)\n",
    "print(\"\\nTrain Accuracy:\", accuracy_train)"
   ]
  },
  {
   "cell_type": "code",
   "execution_count": 46,
   "id": "ae7fd975-679d-4d83-8a05-422e04de233f",
   "metadata": {},
   "outputs": [
    {
     "name": "stdout",
     "output_type": "stream",
     "text": [
      "accuracy using naive bayes:\n",
      "\n",
      "\n",
      "Train Accuracy: 0.5507243028440727\n",
      "Validation Accuracy: 0.5197301543295444\n",
      "Test Accuracy: 0.5181932477905558\n"
     ]
    }
   ],
   "source": [
    "print(\"accuracy using naive bayes:\\n\")\n",
    "print(\"\\nTrain Accuracy:\", accuracy_train)\n",
    "print(\"Validation Accuracy:\", accuracy_val)\n",
    "print(\"Test Accuracy:\", accuracy_test)"
   ]
  },
  {
   "cell_type": "markdown",
   "id": "2f402ede-79dd-467c-94fb-7050f1d0184a",
   "metadata": {},
   "source": [
    "## Model evalution using logistic regression"
   ]
  },
  {
   "cell_type": "code",
   "execution_count": 47,
   "id": "59769b25-0afe-49f5-a538-b2d5fc945d32",
   "metadata": {},
   "outputs": [
    {
     "data": {
      "text/html": [
       "<style>#sk-container-id-3 {color: black;background-color: white;}#sk-container-id-3 pre{padding: 0;}#sk-container-id-3 div.sk-toggleable {background-color: white;}#sk-container-id-3 label.sk-toggleable__label {cursor: pointer;display: block;width: 100%;margin-bottom: 0;padding: 0.3em;box-sizing: border-box;text-align: center;}#sk-container-id-3 label.sk-toggleable__label-arrow:before {content: \"▸\";float: left;margin-right: 0.25em;color: #696969;}#sk-container-id-3 label.sk-toggleable__label-arrow:hover:before {color: black;}#sk-container-id-3 div.sk-estimator:hover label.sk-toggleable__label-arrow:before {color: black;}#sk-container-id-3 div.sk-toggleable__content {max-height: 0;max-width: 0;overflow: hidden;text-align: left;background-color: #f0f8ff;}#sk-container-id-3 div.sk-toggleable__content pre {margin: 0.2em;color: black;border-radius: 0.25em;background-color: #f0f8ff;}#sk-container-id-3 input.sk-toggleable__control:checked~div.sk-toggleable__content {max-height: 200px;max-width: 100%;overflow: auto;}#sk-container-id-3 input.sk-toggleable__control:checked~label.sk-toggleable__label-arrow:before {content: \"▾\";}#sk-container-id-3 div.sk-estimator input.sk-toggleable__control:checked~label.sk-toggleable__label {background-color: #d4ebff;}#sk-container-id-3 div.sk-label input.sk-toggleable__control:checked~label.sk-toggleable__label {background-color: #d4ebff;}#sk-container-id-3 input.sk-hidden--visually {border: 0;clip: rect(1px 1px 1px 1px);clip: rect(1px, 1px, 1px, 1px);height: 1px;margin: -1px;overflow: hidden;padding: 0;position: absolute;width: 1px;}#sk-container-id-3 div.sk-estimator {font-family: monospace;background-color: #f0f8ff;border: 1px dotted black;border-radius: 0.25em;box-sizing: border-box;margin-bottom: 0.5em;}#sk-container-id-3 div.sk-estimator:hover {background-color: #d4ebff;}#sk-container-id-3 div.sk-parallel-item::after {content: \"\";width: 100%;border-bottom: 1px solid gray;flex-grow: 1;}#sk-container-id-3 div.sk-label:hover label.sk-toggleable__label {background-color: #d4ebff;}#sk-container-id-3 div.sk-serial::before {content: \"\";position: absolute;border-left: 1px solid gray;box-sizing: border-box;top: 0;bottom: 0;left: 50%;z-index: 0;}#sk-container-id-3 div.sk-serial {display: flex;flex-direction: column;align-items: center;background-color: white;padding-right: 0.2em;padding-left: 0.2em;position: relative;}#sk-container-id-3 div.sk-item {position: relative;z-index: 1;}#sk-container-id-3 div.sk-parallel {display: flex;align-items: stretch;justify-content: center;background-color: white;position: relative;}#sk-container-id-3 div.sk-item::before, #sk-container-id-3 div.sk-parallel-item::before {content: \"\";position: absolute;border-left: 1px solid gray;box-sizing: border-box;top: 0;bottom: 0;left: 50%;z-index: -1;}#sk-container-id-3 div.sk-parallel-item {display: flex;flex-direction: column;z-index: 1;position: relative;background-color: white;}#sk-container-id-3 div.sk-parallel-item:first-child::after {align-self: flex-end;width: 50%;}#sk-container-id-3 div.sk-parallel-item:last-child::after {align-self: flex-start;width: 50%;}#sk-container-id-3 div.sk-parallel-item:only-child::after {width: 0;}#sk-container-id-3 div.sk-dashed-wrapped {border: 1px dashed gray;margin: 0 0.4em 0.5em 0.4em;box-sizing: border-box;padding-bottom: 0.4em;background-color: white;}#sk-container-id-3 div.sk-label label {font-family: monospace;font-weight: bold;display: inline-block;line-height: 1.2em;}#sk-container-id-3 div.sk-label-container {text-align: center;}#sk-container-id-3 div.sk-container {/* jupyter's `normalize.less` sets `[hidden] { display: none; }` but bootstrap.min.css set `[hidden] { display: none !important; }` so we also need the `!important` here to be able to override the default hidden behavior on the sphinx rendered scikit-learn.org. See: https://github.com/scikit-learn/scikit-learn/issues/21755 */display: inline-block !important;position: relative;}#sk-container-id-3 div.sk-text-repr-fallback {display: none;}</style><div id=\"sk-container-id-3\" class=\"sk-top-container\"><div class=\"sk-text-repr-fallback\"><pre>LogisticRegression(max_iter=1000)</pre><b>In a Jupyter environment, please rerun this cell to show the HTML representation or trust the notebook. <br />On GitHub, the HTML representation is unable to render, please try loading this page with nbviewer.org.</b></div><div class=\"sk-container\" hidden><div class=\"sk-item\"><div class=\"sk-estimator sk-toggleable\"><input class=\"sk-toggleable__control sk-hidden--visually\" id=\"sk-estimator-id-3\" type=\"checkbox\" checked><label for=\"sk-estimator-id-3\" class=\"sk-toggleable__label sk-toggleable__label-arrow\">LogisticRegression</label><div class=\"sk-toggleable__content\"><pre>LogisticRegression(max_iter=1000)</pre></div></div></div></div></div>"
      ],
      "text/plain": [
       "LogisticRegression(max_iter=1000)"
      ]
     },
     "execution_count": 47,
     "metadata": {},
     "output_type": "execute_result"
    }
   ],
   "source": [
    "from sklearn.linear_model import LogisticRegression\n",
    "lr=LogisticRegression(max_iter=1000)\n",
    "lr.fit(X_train_vec,Y_train)"
   ]
  },
  {
   "cell_type": "code",
   "execution_count": 48,
   "id": "a9ded1c1-fc84-40f8-8ec6-56a57fb01944",
   "metadata": {},
   "outputs": [
    {
     "name": "stdout",
     "output_type": "stream",
     "text": [
      "\n",
      "Train Accuracy: 0.6725735277129589\n"
     ]
    }
   ],
   "source": [
    "# MAKE PREDICTIONS ON THE TEST SET\n",
    "y_pred_train = lr.predict(X_train_vec)\n",
    "\n",
    "# EVALUATE THE MODEL ON THE TEST SET\n",
    "accuracy_train = accuracy_score(Y_train, y_pred_train)\n",
    "print(\"\\nTrain Accuracy:\", accuracy_train)"
   ]
  },
  {
   "cell_type": "code",
   "execution_count": 49,
   "id": "7a355858-75f3-413b-b1b7-33df39adf5b2",
   "metadata": {},
   "outputs": [
    {
     "name": "stdout",
     "output_type": "stream",
     "text": [
      "Validation Accuracy: 0.5752703077349598\n"
     ]
    }
   ],
   "source": [
    "## make prediction on val data\n",
    "y_pred_val = lr.predict(X_val_vec)\n",
    "\n",
    "# EVALUATE THE MODEL ON THE VALIDATION SET\n",
    "accuracy_val = accuracy_score(Y_val, y_pred_val)\n",
    "print(\"Validation Accuracy:\", accuracy_val)"
   ]
  },
  {
   "cell_type": "code",
   "execution_count": 50,
   "id": "b6687af8-77cd-419a-97a7-32b613cc7e6c",
   "metadata": {},
   "outputs": [
    {
     "name": "stdout",
     "output_type": "stream",
     "text": [
      "\n",
      "Test Accuracy: 0.5780423769552194\n"
     ]
    }
   ],
   "source": [
    "# MAKE PREDICTIONS ON THE TEST SET\n",
    "y_pred_test = lr.predict(X_test_vec)\n",
    "\n",
    "# EVALUATE THE MODEL ON THE TEST SET\n",
    "accuracy_test = accuracy_score(y_test, y_pred_test)\n",
    "print(\"\\nTest Accuracy:\", accuracy_test)"
   ]
  },
  {
   "cell_type": "markdown",
   "id": "9fcab2a3-4a2c-44df-bb08-a1394156b8ea",
   "metadata": {},
   "source": [
    "## Conclusion"
   ]
  },
  {
   "cell_type": "code",
   "execution_count": 51,
   "id": "0d44c6d4-4d4c-40b6-a756-9a071b3510fa",
   "metadata": {},
   "outputs": [
    {
     "name": "stdout",
     "output_type": "stream",
     "text": [
      "accuacy using logistic regression\n",
      "\n",
      "\n",
      "Train Accuracy: 0.6725735277129589\n",
      "Validation Accuracy: 0.5752703077349598\n",
      "Test Accuracy: 0.5780423769552194\n"
     ]
    }
   ],
   "source": [
    "print(\"accuacy using logistic regression\\n\")\n",
    "print(\"\\nTrain Accuracy:\", accuracy_train)\n",
    "print(\"Validation Accuracy:\", accuracy_val)\n",
    "print(\"Test Accuracy:\", accuracy_test)"
   ]
  },
  {
   "cell_type": "code",
   "execution_count": null,
   "id": "715aee8b-321a-44d6-970c-581ef612bc04",
   "metadata": {},
   "outputs": [],
   "source": []
  }
 ],
 "metadata": {
  "kernelspec": {
   "display_name": "Python 3 (ipykernel)",
   "language": "python",
   "name": "python3"
  },
  "language_info": {
   "codemirror_mode": {
    "name": "ipython",
    "version": 3
   },
   "file_extension": ".py",
   "mimetype": "text/x-python",
   "name": "python",
   "nbconvert_exporter": "python",
   "pygments_lexer": "ipython3",
   "version": "3.11.7"
  }
 },
 "nbformat": 4,
 "nbformat_minor": 5
}
